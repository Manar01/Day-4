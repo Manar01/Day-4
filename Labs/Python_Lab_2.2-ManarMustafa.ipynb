{
 "cells": [
  {
   "cell_type": "markdown",
   "metadata": {
    "id": "E9Y5ss1ZYj3r"
   },
   "source": [
    "# Python_Lab_2.2\n"
   ]
  },
  {
   "cell_type": "markdown",
   "metadata": {
    "id": "Q1kAqc72Yj3t"
   },
   "source": [
    "### Task 1\n",
    "1. Write a program that prompts the user to enter two numbers and prints their division. Handle cases where the user enters non-numeric values or attempts to divide by zero using a try-except block.\n"
   ]
  },
  {
   "cell_type": "code",
   "execution_count": null,
   "metadata": {
    "id": "H-xyoRTVYj3t"
   },
   "outputs": [],
   "source": [
    "try:\n",
    "    num1 = float(input(\"enter first number\"))\n",
    "    num2 = float(input(\"enter  second number\"))\n",
    "    result = num1 / num2\n",
    "    print(f\"{num1} / {num2} = {result}\")\n",
    "except ValueError:\n",
    "    print(\"invalid: enter numeric values\")\n",
    "except ZeroDivisionError:\n",
    "    print(\"invalid: not allowed\")"
   ]
  },
  {
   "cell_type": "markdown",
   "metadata": {
    "id": "CPWcDSC_Yj3u"
   },
   "source": [
    "### Task 2\n",
    "- Use \"Random\" library to do the following:\n",
    "    1. Create a list of random numbers using list comprehension.\n",
    "    2. Create a list of squares of the even numbers from random numbers using list comprehension.\n",
    "    3. Create a list of tuples (number, square) for random numbers using list comprehension."
   ]
  },
  {
   "cell_type": "code",
   "execution_count": 1,
   "metadata": {
    "id": "Yfq-i6CeYj3u"
   },
   "outputs": [
    {
     "name": "stdout",
     "output_type": "stream",
     "text": [
      "Random numbers: [16, 38, 61, 88, 72, 100, 85, 65, 85, 33]\n",
      "Squares of even numbers: [256, 1444, 7744, 5184, 10000]\n",
      "Tuples of (number, square): [(16, 256), (38, 1444), (61, 3721), (88, 7744), (72, 5184), (100, 10000), (85, 7225), (65, 4225), (85, 7225), (33, 1089)]\n"
     ]
    }
   ],
   "source": [
    "import random\n",
    "\n",
    "random_nums = [random.randint(1, 100) for _ in range(10)]\n",
    "print(\"Random numbers:\", random_nums)\n",
    "\n",
    "evensquares = [num ** 2 for num in random_nums if num % 2 == 0]\n",
    "print(\"Squares of even numbers:\", evensquares)\n",
    "\n",
    "tuplenums = [(num, num ** 2) for num in random_nums]\n",
    "print(\"Tuples of (number, square):\", tuplenums)"
   ]
  },
  {
   "cell_type": "markdown",
   "metadata": {
    "id": "jYdOq46NYj3u"
   },
   "source": [
    "### Task 3\n",
    "- Create a dictionary where the keys are numbers from 1 to 5 and the values are list of their squares and cubes.\n",
    "\n",
    "  - **hint**: use dictionary of list comprehension.\n",
    "\n",
    "- Create a dictionary from two lists (one with keys and one with values) using dictionary comprehension.\n",
    "\n"
   ]
  },
  {
   "cell_type": "code",
   "execution_count": 2,
   "metadata": {
    "id": "IEnsiNmCYj3u"
   },
   "outputs": [
    {
     "name": "stdout",
     "output_type": "stream",
     "text": [
      "Squares and Cubes: {1: {'square': 1, 'cube': 1}, 2: {'square': 4, 'cube': 8}, 3: {'square': 9, 'cube': 27}, 4: {'square': 16, 'cube': 64}, 5: {'square': 25, 'cube': 125}}\n"
     ]
    }
   ],
   "source": [
    "squares_cubes = {i: {'square': i**2, 'cube': i**3} for i in range(1, 6)}\n",
    "print(\"Squares and Cubes:\", squares_cubes)"
   ]
  },
  {
   "cell_type": "code",
   "execution_count": 3,
   "metadata": {},
   "outputs": [
    {
     "name": "stdout",
     "output_type": "stream",
     "text": [
      "{'drinks': 'sodas', 'food': 'appetizers', 'sweets': 'laze cake'}\n"
     ]
    }
   ],
   "source": [
    "keys = ['drinks', 'food', 'sweets']\n",
    "values = ['sodas', 'appetizers', 'laze cake']\n",
    "combined= {keys[i]: values[i] for i in range(len(keys))}\n",
    "print(combined)"
   ]
  },
  {
   "cell_type": "markdown",
   "metadata": {
    "id": "6T9TCQ8SYj3v"
   },
   "source": [
    "### Task 4\n",
    "- Given a dictionary where keys are student names and values are lists of their scores, write a function that updates the scores of students who have achieved a perfect score (100) by adding a bonus of 5 points to each score. Use dictionary comprehension to achieve this.\n",
    "\n",
    "    - Implement the function add_bonus_to_perfect_scores(student_scores) that adds a bonus of 5 points to each score of students who have achieved a perfect score (100)."
   ]
  },
  {
   "cell_type": "code",
   "execution_count": 14,
   "metadata": {
    "id": "T3R_VsQpYj3v"
   },
   "outputs": [
    {
     "name": "stdout",
     "output_type": "stream",
     "text": [
      "Updated Scores: {'Alice': [95, 105], 'Bob': [105, 92], 'Charlie': [87, 105], 'David': [105, 85], 'Eve': [92, 88]}\n",
      "Students with perfect scores: 4\n"
     ]
    }
   ],
   "source": [
    "student_scores = {\n",
    "    'Alice': [95, 100],\n",
    "    'Bob': [100, 92],\n",
    "    'Charlie': [87, 100],\n",
    "    'David': [100, 85],\n",
    "    'Eve': [92, 88]\n",
    "}\n",
    "def add_bonus_to_perfect_scores(scores):\n",
    "    return {student: [score + 5 if score == 100 else score for score in score_list] for student, score_list in scores.items()}\n",
    "updated_scores = add_bonus_to_perfect_scores(student_scores)\n",
    "perfect_score_count = sum(\n",
    "    1 for score_list in updated_scores.values() for score in score_list if score >= 100)\n",
    "print(\"Updated Scores:\", updated_scores)\n",
    "print('Students with perfect scores:', perfect_score_count)"
   ]
  },
  {
   "cell_type": "markdown",
   "metadata": {
    "id": "rJkOEFAwYj3v"
   },
   "source": []
  }
 ],
 "metadata": {
  "colab": {
   "provenance": []
  },
  "kernelspec": {
   "display_name": "base",
   "language": "python",
   "name": "python3"
  },
  "language_info": {
   "codemirror_mode": {
    "name": "ipython",
    "version": 3
   },
   "file_extension": ".py",
   "mimetype": "text/x-python",
   "name": "python",
   "nbconvert_exporter": "python",
   "pygments_lexer": "ipython3",
   "version": "3.9.7"
  }
 },
 "nbformat": 4,
 "nbformat_minor": 0
}
